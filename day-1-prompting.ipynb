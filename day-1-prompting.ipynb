{
 "cells": [
  {
   "cell_type": "markdown",
   "id": "38492f21",
   "metadata": {
    "id": "jkxRSYjzA1oX",
    "papermill": {
     "duration": 0.01325,
     "end_time": "2025-04-18T04:47:20.545636",
     "exception": false,
     "start_time": "2025-04-18T04:47:20.532386",
     "status": "completed"
    },
    "tags": []
   },
   "source": [
    "##### Copyright 2025 Google LLC."
   ]
  },
  {
   "cell_type": "code",
   "execution_count": 1,
   "id": "946151fd",
   "metadata": {
    "cellView": "form",
    "execution": {
     "iopub.execute_input": "2025-04-18T04:47:20.570936Z",
     "iopub.status.busy": "2025-04-18T04:47:20.570567Z",
     "iopub.status.idle": "2025-04-18T04:47:20.575831Z",
     "shell.execute_reply": "2025-04-18T04:47:20.575005Z"
    },
    "id": "5u5OZ2ShA3BA",
    "jupyter": {
     "source_hidden": true
    },
    "papermill": {
     "duration": 0.020263,
     "end_time": "2025-04-18T04:47:20.577674",
     "exception": false,
     "start_time": "2025-04-18T04:47:20.557411",
     "status": "completed"
    },
    "tags": []
   },
   "outputs": [],
   "source": [
    "# @title Licensed under the Apache License, Version 2.0 (the \"License\");\n",
    "# you may not use this file except in compliance with the License.\n",
    "# You may obtain a copy of the License at\n",
    "#\n",
    "# https://www.apache.org/licenses/LICENSE-2.0\n",
    "#\n",
    "# Unless required by applicable law or agreed to in writing, software\n",
    "# distributed under the License is distributed on an \"AS IS\" BASIS,\n",
    "# WITHOUT WARRANTIES OR CONDITIONS OF ANY KIND, either express or implied.\n",
    "# See the License for the specific language governing permissions and\n",
    "# limitations under the License."
   ]
  },
  {
   "cell_type": "markdown",
   "id": "11da5ce3",
   "metadata": {
    "id": "csNPnkuCobmG",
    "papermill": {
     "duration": 0.011065,
     "end_time": "2025-04-18T04:47:20.599922",
     "exception": false,
     "start_time": "2025-04-18T04:47:20.588857",
     "status": "completed"
    },
    "tags": []
   },
   "source": [
    "# Day 1 - Prompting\n",
    "\n",
    "Welcome to the Kaggle 5-day Generative AI course!\n",
    "\n",
    "This notebook will show you how to get started with the Gemini API and walk you through some of the example prompts and techniques that you can also read about in the Prompting whitepaper. You don't need to read the whitepaper to use this notebook, but the papers will give you some theoretical context and background to complement this interactive notebook.\n",
    "\n",
    "\n",
    "## Before you begin\n",
    "\n",
    "In this notebook, you'll start exploring prompting using the Python SDK and AI Studio. For some inspiration, you might enjoy exploring some apps that have been built using the Gemini family of models. Here are a few that we like, and we think you will too.\n",
    "\n",
    "* [TextFX](https://textfx.withgoogle.com/) is a suite of AI-powered tools for rappers, made in collaboration with Lupe Fiasco,\n",
    "* [SQL Talk](https://sql-talk-r5gdynozbq-uc.a.run.app/) shows how you can talk directly to a database using the Gemini API,\n",
    "* [NotebookLM](https://notebooklm.google/) uses Gemini models to build your own personal AI research assistant.\n",
    "\n",
    "\n",
    "## For help\n",
    "\n",
    "**Common issues are covered in the [FAQ and troubleshooting guide](https://www.kaggle.com/code/markishere/day-0-troubleshooting-and-faqs).**\n",
    "\n",
    "## New for Gemini 2.0!\n",
    "\n",
    "This course material was first launched in November 2024. The AI and LLM space is moving incredibly fast, so we have made some updates to use the latest models and capabilities.\n",
    "\n",
    "* These codelabs have been updated to use the Gemini 2.0 family of models.\n",
    "* The Python SDK has been updated from `google-generativeai` to the new, unified [`google-genai`](https://pypi.org/project/google-genai) SDK.\n",
    "  * This new SDK works with both the developer Gemini API as well as Google Cloud Vertex AI, and switching is [as simple as changing some fields](https://pypi.org/project/google-genai/#:~:text=.Client%28%29-,API%20Selection,-By%20default%2C%20the).\n",
    "* New model capabilities have been added to the relevant codelabs, such as \"thinking mode\" in this lab.\n",
    "* Day 1 includes a new [Evaluation codelab](https://www.kaggle.com/code/markishere/day-1-evaluation-and-structured-output)."
   ]
  },
  {
   "attachments": {
    "d8299597-f771-4195-ac94-1d6f658ef2bd.png": {
     "image/png": "[encoded data removed]"
    },
    "ed25e346-2e15-4ab0-bc22-503eb1845e66.png": {
     "image/png": "[encoded data removed]"
    }
   },
   "cell_type": "markdown",
   "id": "af89ca5a",
   "metadata": {
    "id": "f00ea7c99e44",
    "papermill": {
     "duration": 0.010891,
     "end_time": "2025-04-18T04:47:20.622015",
     "exception": false,
     "start_time": "2025-04-18T04:47:20.611124",
     "status": "completed"
    },
    "tags": []
   },
   "source": [
    "## Get started with Kaggle notebooks\n",
    "\n",
    "If this is your first time using a Kaggle notebook, welcome! You can read about how to use Kaggle notebooks [in the docs](https://www.kaggle.com/docs/notebooks).\n",
    "\n",
    "First, you will need to phone verify your account at kaggle.com/settings.\n",
    "\n",
    "![](https://storage.googleapis.com/kaggle-media/Images/5dgai_0.png)"
   ]
  },
  {
   "cell_type": "markdown",
   "id": "02db1a73",
   "metadata": {
    "papermill": {
     "duration": 0.010639,
     "end_time": "2025-04-18T04:47:20.643303",
     "exception": false,
     "start_time": "2025-04-18T04:47:20.632664",
     "status": "completed"
    },
    "tags": []
   },
   "source": [
    "To run this notebook, as well as the others in this course, you will need to make a copy, or fork, the notebook. Look for the `Copy and Edit` button in the top-right, and **click it** to make an editable, private copy of the notebook. It should look like this one:\n",
    "\n",
    "![Copy and Edit button](https://storage.googleapis.com/kaggle-media/Images/5gdai_sc_1.png)\n",
    "\n",
    "Your copy will now have a ▶️ **Run** button next to each code cell that you can press to execute that cell. These notebooks are expected to be run in order from top-to-bottom, but you are encouraged to add new cells, run your own code and explore. If you get stuck, you can try the `Factory reset` option in the `Run` menu, or head back to the original notebook and make a fresh copy.\n",
    "\n",
    "![Run cell button](https://storage.googleapis.com/kaggle-media/Images/5gdai_sc_2.png)\n",
    "\n",
    "### Problems?\n",
    "\n",
    "If you have any problems, head over to the [Kaggle Discord](https://discord.com/invite/kaggle), find the [`#5dgai-q-and-a` channel](https://discord.com/channels/1101210829807956100/1303438695143178251) and ask for help."
   ]
  },
  {
   "cell_type": "markdown",
   "id": "cd25d8ed",
   "metadata": {
    "id": "ExkOXcPxtTb5",
    "papermill": {
     "duration": 0.011016,
     "end_time": "2025-04-18T04:47:20.665369",
     "exception": false,
     "start_time": "2025-04-18T04:47:20.654353",
     "status": "completed"
    },
    "tags": []
   },
   "source": [
    "## Get started with the Gemini API\n",
    "\n",
    "All of the exercises in this notebook will use the [Gemini API](https://ai.google.dev/gemini-api/) by way of the [Python SDK](https://pypi.org/project/google-genai/). Each of these prompts can be accessed directly in [Google AI Studio](https://aistudio.google.com/) too, so if you would rather use a web interface and skip the code for this activity, look for the <img src=\"https://ai.google.dev/site-assets/images/marketing/home/icon-ais.png\" style=\"height: 24px\" height=24/> AI Studio link on each prompt."
   ]
  },
  {
   "cell_type": "markdown",
   "id": "4236421b",
   "metadata": {
    "papermill": {
     "duration": 0.01069,
     "end_time": "2025-04-18T04:47:20.687669",
     "exception": false,
     "start_time": "2025-04-18T04:47:20.676979",
     "status": "completed"
    },
    "tags": []
   },
   "source": [
    "Next, you will need to add your API key to your Kaggle Notebook as a Kaggle User Secret.\n",
    "\n",
    "![](https://storage.googleapis.com/kaggle-media/Images/5dgai_1.png)\n",
    "![](https://storage.googleapis.com/kaggle-media/Images/5dgai_2.png)\n",
    "![](https://storage.googleapis.com/kaggle-media/Images/5dgai_3.png)\n",
    "![](https://storage.googleapis.com/kaggle-media/Images/5dgai_4.png)"
   ]
  },
  {
   "cell_type": "markdown",
   "id": "27ab2e74",
   "metadata": {
    "id": "UAjUV3BsvFXQ",
    "papermill": {
     "duration": 0.010863,
     "end_time": "2025-04-18T04:47:20.708980",
     "exception": false,
     "start_time": "2025-04-18T04:47:20.698117",
     "status": "completed"
    },
    "tags": []
   },
   "source": [
    "### Install the SDK"
   ]
  },
  {
   "cell_type": "code",
   "execution_count": 2,
   "id": "df0e1cde",
   "metadata": {
    "execution": {
     "iopub.execute_input": "2025-04-18T04:47:20.734896Z",
     "iopub.status.busy": "2025-04-18T04:47:20.733916Z",
     "iopub.status.idle": "2025-04-18T04:47:38.392403Z",
     "shell.execute_reply": "2025-04-18T04:47:38.391279Z"
    },
    "id": "NzwzJFU9LqkJ",
    "papermill": {
     "duration": 17.673528,
     "end_time": "2025-04-18T04:47:38.395065",
     "exception": false,
     "start_time": "2025-04-18T04:47:20.721537",
     "status": "completed"
    },
    "tags": []
   },
   "outputs": [],
   "source": [
    "!pip uninstall -qqy jupyterlab  # Remove unused packages from Kaggle's base image that conflict\n",
    "!pip install -U -q \"google-genai==1.7.0\""
   ]
  },
  {
   "cell_type": "markdown",
   "id": "5a98a323",
   "metadata": {
    "papermill": {
     "duration": 0.010991,
     "end_time": "2025-04-18T04:47:38.418018",
     "exception": false,
     "start_time": "2025-04-18T04:47:38.407027",
     "status": "completed"
    },
    "tags": []
   },
   "source": [
    "Import the SDK and some helpers for rendering the output."
   ]
  },
  {
   "cell_type": "code",
   "execution_count": 3,
   "id": "9b9052f1",
   "metadata": {
    "execution": {
     "iopub.execute_input": "2025-04-18T04:47:38.442511Z",
     "iopub.status.busy": "2025-04-18T04:47:38.442082Z",
     "iopub.status.idle": "2025-04-18T04:47:39.610488Z",
     "shell.execute_reply": "2025-04-18T04:47:39.609714Z"
    },
    "id": "5DwxYIRavMST",
    "papermill": {
     "duration": 1.183517,
     "end_time": "2025-04-18T04:47:39.612732",
     "exception": false,
     "start_time": "2025-04-18T04:47:38.429215",
     "status": "completed"
    },
    "tags": []
   },
   "outputs": [],
   "source": [
    "from google import genai\n",
    "from google.genai import types\n",
    "\n",
    "from IPython.display import HTML, Markdown, display"
   ]
  },
  {
   "cell_type": "markdown",
   "id": "8c85a5ef",
   "metadata": {
    "papermill": {
     "duration": 0.011534,
     "end_time": "2025-04-18T04:47:39.636371",
     "exception": false,
     "start_time": "2025-04-18T04:47:39.624837",
     "status": "completed"
    },
    "tags": []
   },
   "source": [
    "Set up a retry helper. This allows you to \"Run all\" without worrying about per-minute quota."
   ]
  },
  {
   "cell_type": "code",
   "execution_count": 4,
   "id": "2afbe46e",
   "metadata": {
    "execution": {
     "iopub.execute_input": "2025-04-18T04:47:39.660417Z",
     "iopub.status.busy": "2025-04-18T04:47:39.659997Z",
     "iopub.status.idle": "2025-04-18T04:47:39.834354Z",
     "shell.execute_reply": "2025-04-18T04:47:39.833310Z"
    },
    "papermill": {
     "duration": 0.189107,
     "end_time": "2025-04-18T04:47:39.836777",
     "exception": false,
     "start_time": "2025-04-18T04:47:39.647670",
     "status": "completed"
    },
    "tags": []
   },
   "outputs": [],
   "source": [
    "from google.api_core import retry\n",
    "\n",
    "\n",
    "is_retriable = lambda e: (isinstance(e, genai.errors.APIError) and e.code in {429, 503})\n",
    "\n",
    "genai.models.Models.generate_content = retry.Retry(\n",
    "    predicate=is_retriable)(genai.models.Models.generate_content)"
   ]
  },
  {
   "cell_type": "markdown",
   "id": "4b449652",
   "metadata": {
    "id": "DNEt2BCOvOJ1",
    "papermill": {
     "duration": 0.011614,
     "end_time": "2025-04-18T04:47:39.861099",
     "exception": false,
     "start_time": "2025-04-18T04:47:39.849485",
     "status": "completed"
    },
    "tags": []
   },
   "source": [
    "### Set up your API key\n",
    "\n",
    "To run the following cell, your API key must be stored it in a [Kaggle secret](https://www.kaggle.com/discussions/product-feedback/114053) named `GOOGLE_API_KEY`.\n",
    "\n",
    "If you don't already have an API key, you can grab one from [AI Studio](https://aistudio.google.com/app/apikey). You can find [detailed instructions in the docs](https://ai.google.dev/gemini-api/docs/api-key).\n",
    "\n",
    "To make the key available through Kaggle secrets, choose `Secrets` from the `Add-ons` menu and follow the instructions to add your key or enable it for this notebook."
   ]
  },
  {
   "cell_type": "code",
   "execution_count": 5,
   "id": "6f5f7b25",
   "metadata": {
    "execution": {
     "iopub.execute_input": "2025-04-18T04:47:39.885658Z",
     "iopub.status.busy": "2025-04-18T04:47:39.884914Z",
     "iopub.status.idle": "2025-04-18T04:47:39.991505Z",
     "shell.execute_reply": "2025-04-18T04:47:39.990631Z"
    },
    "id": "SHl0bkPCvayd",
    "papermill": {
     "duration": 0.121599,
     "end_time": "2025-04-18T04:47:39.994080",
     "exception": false,
     "start_time": "2025-04-18T04:47:39.872481",
     "status": "completed"
    },
    "tags": []
   },
   "outputs": [],
   "source": [
    "from kaggle_secrets import UserSecretsClient\n",
    "\n",
    "GOOGLE_API_KEY = UserSecretsClient().get_secret(\"GOOGLE_API_KEY\")"
   ]
  },
  {
   "attachments": {
    "d2be9aab-2527-48af-b6cf-1f06cdd7c3a7.png": {
     "image/png": "[encoded data removed]"
    }
   },
   "cell_type": "markdown",
   "id": "8e2ad16d",
   "metadata": {
    "id": "4e720472fd86",
    "papermill": {
     "duration": 0.011017,
     "end_time": "2025-04-18T04:47:40.016984",
     "exception": false,
     "start_time": "2025-04-18T04:47:40.005967",
     "status": "completed"
    },
    "tags": []
   },
   "source": [
    "If you received an error response along the lines of `No user secrets exist for kernel id ...`, then you need to add your API key via `Add-ons`, `Secrets` **and** enable it.\n",
    "\n",
    "![Screenshot of the checkbox to enable GOOGLE_API_KEY secret](https://storage.googleapis.com/kaggle-media/Images/5gdai_sc_3.png)"
   ]
  },
  {
   "cell_type": "markdown",
   "id": "1fef1328",
   "metadata": {
    "id": "H_YXCYIKvyZJ",
    "papermill": {
     "duration": 0.011599,
     "end_time": "2025-04-18T04:47:40.040083",
     "exception": false,
     "start_time": "2025-04-18T04:47:40.028484",
     "status": "completed"
    },
    "tags": []
   },
   "source": [
    "### Run your first prompt\n",
    "\n",
    "In this step, you will test that your API key is set up correctly by making a request.\n",
    "\n",
    "The Python SDK uses a [`Client` object](https://googleapis.github.io/python-genai/genai.html#genai.client.Client) to make requests to the API. The client lets you control which back-end to use (between the Gemini API and Vertex AI) and handles authentication (the API key).\n",
    "\n",
    "The `gemini-2.0-flash` model has been selected here.\n",
    "\n",
    "**Note**: If you see a `TransportError` on this step, you may need to **🔁 Factory reset** the notebook one time."
   ]
  },
  {
   "cell_type": "code",
   "execution_count": 6,
   "id": "3bea89d0",
   "metadata": {
    "execution": {
     "iopub.execute_input": "2025-04-18T04:47:40.065137Z",
     "iopub.status.busy": "2025-04-18T04:47:40.064654Z",
     "iopub.status.idle": "2025-04-18T04:47:42.331487Z",
     "shell.execute_reply": "2025-04-18T04:47:42.330411Z"
    },
    "id": "BV1o0PmcvyJF",
    "papermill": {
     "duration": 2.281797,
     "end_time": "2025-04-18T04:47:42.333719",
     "exception": false,
     "start_time": "2025-04-18T04:47:40.051922",
     "status": "completed"
    },
    "tags": []
   },
   "outputs": [
    {
     "name": "stdout",
     "output_type": "stream",
     "text": [
      "Imagine you have a really smart dog, but instead of being a real dog, it's a computer program! That's kind of like AI, or Artificial Intelligence.\n",
      "\n",
      "AI is like teaching a computer to do things that usually only people can do, like:\n",
      "\n",
      "*   **Learn things:** Just like you learn your ABCs, AI can learn from lots and lots of information.\n",
      "*   **Solve problems:** If you give AI a puzzle, it can try to figure out the answer, like a detective!\n",
      "*   **Understand you:** Some AI can understand when you talk to it, and even talk back!\n",
      "*   **Make choices:** AI can even make decisions based on what it has learned, like deciding what song to play next.\n",
      "\n",
      "Think of it like this:\n",
      "\n",
      "*   If you show the AI lots of pictures of cats, it can learn what a cat looks like and then be able to recognize a cat in a new picture!\n",
      "*   If you teach AI the rules of a game, it can play the game really well, sometimes even better than a human!\n",
      "\n",
      "So, AI is all about making computers smarter and helping them do cool things! It's still pretty new, but it's getting better and better every day! Maybe one day AI will help us fly to Mars or even clean up our planet!\n",
      "\n"
     ]
    }
   ],
   "source": [
    "client = genai.Client(api_key=GOOGLE_API_KEY)\n",
    "\n",
    "response = client.models.generate_content(\n",
    "    model=\"gemini-2.0-flash\",\n",
    "    contents=\"Explain AI to me like I'm a kid.\")\n",
    "\n",
    "print(response.text)"
   ]
  },
  {
   "cell_type": "markdown",
   "id": "1f615085",
   "metadata": {
    "id": "f60ed9d8ae41",
    "papermill": {
     "duration": 0.011894,
     "end_time": "2025-04-18T04:47:42.358094",
     "exception": false,
     "start_time": "2025-04-18T04:47:42.346200",
     "status": "completed"
    },
    "tags": []
   },
   "source": [
    "The response often comes back in markdown format, which you can render directly in this notebook."
   ]
  },
  {
   "cell_type": "code",
   "execution_count": 7,
   "id": "0445abf2",
   "metadata": {
    "execution": {
     "iopub.execute_input": "2025-04-18T04:47:42.384530Z",
     "iopub.status.busy": "2025-04-18T04:47:42.383542Z",
     "iopub.status.idle": "2025-04-18T04:47:42.390926Z",
     "shell.execute_reply": "2025-04-18T04:47:42.389983Z"
    },
    "id": "c933e5e460a5",
    "papermill": {
     "duration": 0.022786,
     "end_time": "2025-04-18T04:47:42.392915",
     "exception": false,
     "start_time": "2025-04-18T04:47:42.370129",
     "status": "completed"
    },
    "tags": []
   },
   "outputs": [
    {
     "data": {
      "text/markdown": [
       "Imagine you have a really smart dog, but instead of being a real dog, it's a computer program! That's kind of like AI, or Artificial Intelligence.\n",
       "\n",
       "AI is like teaching a computer to do things that usually only people can do, like:\n",
       "\n",
       "*   **Learn things:** Just like you learn your ABCs, AI can learn from lots and lots of information.\n",
       "*   **Solve problems:** If you give AI a puzzle, it can try to figure out the answer, like a detective!\n",
       "*   **Understand you:** Some AI can understand when you talk to it, and even talk back!\n",
       "*   **Make choices:** AI can even make decisions based on what it has learned, like deciding what song to play next.\n",
       "\n",
       "Think of it like this:\n",
       "\n",
       "*   If you show the AI lots of pictures of cats, it can learn what a cat looks like and then be able to recognize a cat in a new picture!\n",
       "*   If you teach AI the rules of a game, it can play the game really well, sometimes even better than a human!\n",
       "\n",
       "So, AI is all about making computers smarter and helping them do cool things! It's still pretty new, but it's getting better and better every day! Maybe one day AI will help us fly to Mars or even clean up our planet!\n"
      ],
      "text/plain": [
       "<IPython.core.display.Markdown object>"
      ]
     },
     "execution_count": 7,
     "metadata": {},
     "output_type": "execute_result"
    }
   ],
   "source": [
    "Markdown(response.text)"
   ]
  },
  {
   "cell_type": "markdown",
   "id": "2a9d8683",
   "metadata": {
    "id": "byx0pT9ZMW2Q",
    "papermill": {
     "duration": 0.012047,
     "end_time": "2025-04-18T04:47:42.418104",
     "exception": false,
     "start_time": "2025-04-18T04:47:42.406057",
     "status": "completed"
    },
    "tags": []
   },
   "source": [
    "### Start a chat\n",
    "\n",
    "The previous example uses a single-turn, text-in/text-out structure, but you can also set up a multi-turn chat structure too."
   ]
  },
  {
   "cell_type": "code",
   "execution_count": 8,
   "id": "3c3fd65e",
   "metadata": {
    "execution": {
     "iopub.execute_input": "2025-04-18T04:47:42.443538Z",
     "iopub.status.busy": "2025-04-18T04:47:42.443184Z",
     "iopub.status.idle": "2025-04-18T04:47:42.940004Z",
     "shell.execute_reply": "2025-04-18T04:47:42.938936Z"
    },
    "id": "lV_S5ZL5MidD",
    "papermill": {
     "duration": 0.512131,
     "end_time": "2025-04-18T04:47:42.942223",
     "exception": false,
     "start_time": "2025-04-18T04:47:42.430092",
     "status": "completed"
    },
    "tags": []
   },
   "outputs": [
    {
     "name": "stdout",
     "output_type": "stream",
     "text": [
      "Hello Zlork! It's nice to meet you. How can I help you today?\n",
      "\n"
     ]
    }
   ],
   "source": [
    "chat = client.chats.create(model='gemini-2.0-flash', history=[])\n",
    "response = chat.send_message('Hello! My name is Zlork.')\n",
    "print(response.text)"
   ]
  },
  {
   "cell_type": "code",
   "execution_count": 9,
   "id": "476f2e05",
   "metadata": {
    "execution": {
     "iopub.execute_input": "2025-04-18T04:47:42.967662Z",
     "iopub.status.busy": "2025-04-18T04:47:42.967338Z",
     "iopub.status.idle": "2025-04-18T04:47:44.031582Z",
     "shell.execute_reply": "2025-04-18T04:47:44.030588Z"
    },
    "id": "7b0372c3c64a",
    "papermill": {
     "duration": 1.079296,
     "end_time": "2025-04-18T04:47:44.033757",
     "exception": false,
     "start_time": "2025-04-18T04:47:42.954461",
     "status": "completed"
    },
    "tags": []
   },
   "outputs": [
    {
     "name": "stdout",
     "output_type": "stream",
     "text": [
      "Alright, here's a fascinating tidbit about dinosaurs:\n",
      "\n",
      "**Did you know that some dinosaurs had feathers?** While we often picture dinosaurs as scaly reptiles like lizards, evidence suggests that many dinosaurs, especially those closely related to birds, had feathers. This includes iconic dinosaurs like Velociraptor! These feathers weren't necessarily for flight, though. They likely served purposes like insulation, display, and even brooding their young.\n",
      "\n",
      "So, next time you see a dinosaur in a movie, remember that it might have been a bit fluffier than you thought!\n",
      "\n",
      "Do you want to hear another interesting fact?\n",
      "\n"
     ]
    }
   ],
   "source": [
    "response = chat.send_message('Can you tell me something interesting about dinosaurs?')\n",
    "print(response.text)"
   ]
  },
  {
   "cell_type": "markdown",
   "id": "7bfd2d7a",
   "metadata": {
    "papermill": {
     "duration": 0.01237,
     "end_time": "2025-04-18T04:47:44.058435",
     "exception": false,
     "start_time": "2025-04-18T04:47:44.046065",
     "status": "completed"
    },
    "tags": []
   },
   "source": [
    "While you have the `chat` object alive, the conversation state\n",
    "persists. Confirm that by asking if it knows the user's name."
   ]
  },
  {
   "cell_type": "code",
   "execution_count": 10,
   "id": "e0092096",
   "metadata": {
    "execution": {
     "iopub.execute_input": "2025-04-18T04:47:44.083600Z",
     "iopub.status.busy": "2025-04-18T04:47:44.083251Z",
     "iopub.status.idle": "2025-04-18T04:47:44.480227Z",
     "shell.execute_reply": "2025-04-18T04:47:44.479162Z"
    },
    "id": "d3f9591392a7",
    "papermill": {
     "duration": 0.412003,
     "end_time": "2025-04-18T04:47:44.482207",
     "exception": false,
     "start_time": "2025-04-18T04:47:44.070204",
     "status": "completed"
    },
    "tags": []
   },
   "outputs": [
    {
     "name": "stdout",
     "output_type": "stream",
     "text": [
      "Yes, your name is Zlork.\n",
      "\n"
     ]
    }
   ],
   "source": [
    "response = chat.send_message('Do you remember what my name is?')\n",
    "print(response.text)"
   ]
  },
  {
   "cell_type": "markdown",
   "id": "d989ea08",
   "metadata": {
    "id": "2KAjpr1200sW",
    "papermill": {
     "duration": 0.012125,
     "end_time": "2025-04-18T04:47:44.506510",
     "exception": false,
     "start_time": "2025-04-18T04:47:44.494385",
     "status": "completed"
    },
    "tags": []
   },
   "source": [
    "### Choose a model\n",
    "\n",
    "The Gemini API provides access to a number of models from the Gemini model family. Read about the available models and their capabilities on the [model overview page](https://ai.google.dev/gemini-api/docs/models/gemini).\n",
    "\n",
    "In this step you'll use the API to list all of the available models."
   ]
  },
  {
   "cell_type": "code",
   "execution_count": 11,
   "id": "8d66a6ab",
   "metadata": {
    "execution": {
     "iopub.execute_input": "2025-04-18T04:47:44.532481Z",
     "iopub.status.busy": "2025-04-18T04:47:44.532127Z",
     "iopub.status.idle": "2025-04-18T04:47:44.597462Z",
     "shell.execute_reply": "2025-04-18T04:47:44.596287Z"
    },
    "id": "uUUZa2uq2jDm",
    "papermill": {
     "duration": 0.080903,
     "end_time": "2025-04-18T04:47:44.599660",
     "exception": false,
     "start_time": "2025-04-18T04:47:44.518757",
     "status": "completed"
    },
    "tags": []
   },
   "outputs": [
    {
     "name": "stdout",
     "output_type": "stream",
     "text": [
      "models/chat-bison-001\n",
      "models/text-bison-001\n",
      "models/embedding-gecko-001\n",
      "models/gemini-1.0-pro-vision-latest\n",
      "models/gemini-pro-vision\n",
      "models/gemini-1.5-pro-latest\n",
      "models/gemini-1.5-pro-001\n",
      "models/gemini-1.5-pro-002\n",
      "models/gemini-1.5-pro\n",
      "models/gemini-1.5-flash-latest\n",
      "models/gemini-1.5-flash-001\n",
      "models/gemini-1.5-flash-001-tuning\n",
      "models/gemini-1.5-flash\n",
      "models/gemini-1.5-flash-002\n",
      "models/gemini-1.5-flash-8b\n",
      "models/gemini-1.5-flash-8b-001\n",
      "models/gemini-1.5-flash-8b-latest\n",
      "models/gemini-1.5-flash-8b-exp-0827\n",
      "models/gemini-1.5-flash-8b-exp-0924\n",
      "models/gemini-2.5-pro-exp-03-25\n",
      "models/gemini-2.5-pro-preview-03-25\n",
      "models/gemini-2.5-flash-preview-04-17\n",
      "models/gemini-2.0-flash-exp\n",
      "models/gemini-2.0-flash\n",
      "models/gemini-2.0-flash-001\n",
      "models/gemini-2.0-flash-exp-image-generation\n",
      "models/gemini-2.0-flash-lite-001\n",
      "models/gemini-2.0-flash-lite\n",
      "models/gemini-2.0-flash-lite-preview-02-05\n",
      "models/gemini-2.0-flash-lite-preview\n",
      "models/gemini-2.0-pro-exp\n",
      "models/gemini-2.0-pro-exp-02-05\n",
      "models/gemini-exp-1206\n",
      "models/gemini-2.0-flash-thinking-exp-01-21\n",
      "models/gemini-2.0-flash-thinking-exp\n",
      "models/gemini-2.0-flash-thinking-exp-1219\n",
      "models/learnlm-1.5-pro-experimental\n",
      "models/learnlm-2.0-flash-experimental\n",
      "models/gemma-3-1b-it\n",
      "models/gemma-3-4b-it\n",
      "models/gemma-3-12b-it\n",
      "models/gemma-3-27b-it\n",
      "models/embedding-001\n",
      "models/text-embedding-004\n",
      "models/gemini-embedding-exp-03-07\n",
      "models/gemini-embedding-exp\n",
      "models/aqa\n",
      "models/imagen-3.0-generate-002\n",
      "models/gemini-2.0-flash-live-001\n"
     ]
    }
   ],
   "source": [
    "for model in client.models.list():\n",
    "  print(model.name)"
   ]
  },
  {
   "cell_type": "markdown",
   "id": "729b01af",
   "metadata": {
    "id": "rN49kSI54R1v",
    "papermill": {
     "duration": 0.011781,
     "end_time": "2025-04-18T04:47:44.624414",
     "exception": false,
     "start_time": "2025-04-18T04:47:44.612633",
     "status": "completed"
    },
    "tags": []
   },
   "source": [
    "The [`models.list`](https://ai.google.dev/api/models#method:-models.list) response also returns additional information about the model's capabilities, like the token limits and supported parameters."
   ]
  },
  {
   "cell_type": "code",
   "execution_count": 12,
   "id": "d5aa1df0",
   "metadata": {
    "execution": {
     "iopub.execute_input": "2025-04-18T04:47:44.649373Z",
     "iopub.status.busy": "2025-04-18T04:47:44.648700Z",
     "iopub.status.idle": "2025-04-18T04:47:44.762708Z",
     "shell.execute_reply": "2025-04-18T04:47:44.761587Z"
    },
    "id": "k7JJ1K6j4Rl8",
    "papermill": {
     "duration": 0.128488,
     "end_time": "2025-04-18T04:47:44.764695",
     "exception": false,
     "start_time": "2025-04-18T04:47:44.636207",
     "status": "completed"
    },
    "tags": []
   },
   "outputs": [
    {
     "name": "stdout",
     "output_type": "stream",
     "text": [
      "{'description': 'Gemini 2.0 Flash',\n",
      " 'display_name': 'Gemini 2.0 Flash',\n",
      " 'input_token_limit': 1048576,\n",
      " 'name': 'models/gemini-2.0-flash',\n",
      " 'output_token_limit': 8192,\n",
      " 'supported_actions': ['generateContent', 'countTokens', 'createCachedContent'],\n",
      " 'tuned_model_info': {},\n",
      " 'version': '2.0'}\n"
     ]
    }
   ],
   "source": [
    "from pprint import pprint\n",
    "\n",
    "for model in client.models.list():\n",
    "  if model.name == 'models/gemini-2.0-flash':\n",
    "    pprint(model.to_json_dict())\n",
    "    break"
   ]
  },
  {
   "cell_type": "markdown",
   "id": "29a3e42e",
   "metadata": {
    "id": "5rU_UBlZdooM",
    "papermill": {
     "duration": 0.013908,
     "end_time": "2025-04-18T04:47:44.791472",
     "exception": false,
     "start_time": "2025-04-18T04:47:44.777564",
     "status": "completed"
    },
    "tags": []
   },
   "source": [
    "## Explore generation parameters\n",
    "\n"
   ]
  },
  {
   "cell_type": "markdown",
   "id": "ccb8d923",
   "metadata": {
    "id": "G7NfEizeipbW",
    "papermill": {
     "duration": 0.0122,
     "end_time": "2025-04-18T04:47:44.816284",
     "exception": false,
     "start_time": "2025-04-18T04:47:44.804084",
     "status": "completed"
    },
    "tags": []
   },
   "source": [
    "### Output length\n",
    "\n",
    "When generating text with an LLM, the output length affects cost and performance. Generating more tokens increases computation, leading to higher energy consumption, latency, and cost.\n",
    "\n",
    "To stop the model from generating tokens past a limit, you can specify the `max_output_tokens` parameter when using the Gemini API. Specifying this parameter does not influence the generation of the output tokens, so the output will not become more stylistically or textually succinct, but it will stop generating tokens once the specified length is reached. Prompt engineering may be required to generate a more complete output for your given limit."
   ]
  },
  {
   "cell_type": "code",
   "execution_count": 13,
   "id": "c0acd4e1",
   "metadata": {
    "execution": {
     "iopub.execute_input": "2025-04-18T04:47:44.842751Z",
     "iopub.status.busy": "2025-04-18T04:47:44.842163Z",
     "iopub.status.idle": "2025-04-18T04:47:46.328289Z",
     "shell.execute_reply": "2025-04-18T04:47:46.327226Z"
    },
    "id": "qVf23JsIi9ma",
    "papermill": {
     "duration": 1.501618,
     "end_time": "2025-04-18T04:47:46.330373",
     "exception": false,
     "start_time": "2025-04-18T04:47:44.828755",
     "status": "completed"
    },
    "tags": []
   },
   "outputs": [
    {
     "name": "stdout",
     "output_type": "stream",
     "text": [
      "## The Humble Olive: A Cornerstone of Modern Society\n",
      "\n",
      "The olive, a small, unassuming fruit, often overlooked amidst the plethora of exotic and globally-sourced ingredients available in modern society, holds a significance far exceeding its size. From its historical roots as a symbol of peace and prosperity to its vital role in modern cuisine, health, and even industry, the olive and its derivative products permeate contemporary life in ways that are both profound and often unnoticed. Understanding the multifaceted importance of the olive is crucial to appreciating its enduring legacy and its continued relevance in a world increasingly focused on sustainable practices and healthy living.\n",
      "\n",
      "The olive's historical importance is undeniable, laying the foundation for its enduring influence. Originating in the Mediterranean region, the olive tree has been cultivated for millennia, its presence woven into the fabric of ancient civilizations. In Greece, the olive tree was revered, a gift from Athena, the goddess of wisdom and strategic warfare. Olive oil fueled lamps, lubricated machinery, and formed the base for perfumes\n"
     ]
    }
   ],
   "source": [
    "from google.genai import types\n",
    "\n",
    "short_config = types.GenerateContentConfig(max_output_tokens=200)\n",
    "\n",
    "response = client.models.generate_content(\n",
    "    model='gemini-2.0-flash',\n",
    "    config=short_config,\n",
    "    contents='Write a 1000 word essay on the importance of olives in modern society.')\n",
    "\n",
    "print(response.text)"
   ]
  },
  {
   "cell_type": "code",
   "execution_count": 14,
   "id": "ab731b4c",
   "metadata": {
    "execution": {
     "iopub.execute_input": "2025-04-18T04:47:46.356709Z",
     "iopub.status.busy": "2025-04-18T04:47:46.356392Z",
     "iopub.status.idle": "2025-04-18T04:47:47.424633Z",
     "shell.execute_reply": "2025-04-18T04:47:47.423544Z"
    },
    "id": "W-3kR2F5kdMR",
    "papermill": {
     "duration": 1.083819,
     "end_time": "2025-04-18T04:47:47.426950",
     "exception": false,
     "start_time": "2025-04-18T04:47:46.343131",
     "status": "completed"
    },
    "tags": []
   },
   "outputs": [
    {
     "name": "stdout",
     "output_type": "stream",
     "text": [
      "From ancient groves, a timeless art,\n",
      "The olive branch, a brand new start.\n",
      "Pressed into oil, a golden stream,\n",
      "Fueling flavors, a vibrant dream.\n",
      "\n",
      "On pizzas spread, or salads bright,\n",
      "A briny burst of pure delight.\n",
      "In tapenades, a savory paste,\n",
      "A taste of sun, that time can't waste.\n",
      "\n",
      "So raise a glass, to this small fruit,\n",
      "Whose simple charm, we can't refute.\n",
      "The olive's power, strong and bold,\n",
      "A story whispered, centuries old.\n",
      "\n"
     ]
    }
   ],
   "source": [
    "response = client.models.generate_content(\n",
    "    model='gemini-2.0-flash',\n",
    "    config=short_config,\n",
    "    contents='Write a short poem on the importance of olives in modern society.')\n",
    "\n",
    "print(response.text)"
   ]
  },
  {
   "cell_type": "markdown",
   "id": "113747bb",
   "metadata": {
    "id": "3ZhDSLB6lqqB",
    "papermill": {
     "duration": 0.012361,
     "end_time": "2025-04-18T04:47:47.452433",
     "exception": false,
     "start_time": "2025-04-18T04:47:47.440072",
     "status": "completed"
    },
    "tags": []
   },
   "source": [
    "Explore with your own prompts. Try a prompt with a restrictive output limit and then adjust the prompt to work within that limit."
   ]
  },
  {
   "cell_type": "markdown",
   "id": "46fb5710",
   "metadata": {
    "id": "alx-WaAvir_9",
    "papermill": {
     "duration": 0.012302,
     "end_time": "2025-04-18T04:47:47.477407",
     "exception": false,
     "start_time": "2025-04-18T04:47:47.465105",
     "status": "completed"
    },
    "tags": []
   },
   "source": [
    "### Temperature\n",
    "\n",
    "Temperature controls the degree of randomness in token selection. Higher temperatures result in a higher number of candidate tokens from which the next output token is selected, and can produce more diverse results, while lower temperatures have the opposite effect, such that a temperature of 0 results in greedy decoding, selecting the most probable token at each step.\n",
    "\n",
    "Temperature doesn't provide any guarantees of randomness, but it can be used to \"nudge\" the output somewhat."
   ]
  },
  {
   "cell_type": "code",
   "execution_count": 15,
   "id": "6b6314e3",
   "metadata": {
    "execution": {
     "iopub.execute_input": "2025-04-18T04:47:47.504116Z",
     "iopub.status.busy": "2025-04-18T04:47:47.503715Z",
     "iopub.status.idle": "2025-04-18T04:47:49.399832Z",
     "shell.execute_reply": "2025-04-18T04:47:49.399003Z"
    },
    "id": "SHraGMzqnZqt",
    "papermill": {
     "duration": 1.911888,
     "end_time": "2025-04-18T04:47:49.401866",
     "exception": false,
     "start_time": "2025-04-18T04:47:47.489978",
     "status": "completed"
    },
    "tags": []
   },
   "outputs": [
    {
     "name": "stdout",
     "output_type": "stream",
     "text": [
      "Purple\n",
      " -------------------------\n",
      "Cerulean.\n",
      " -------------------------\n",
      "Orange\n",
      " -------------------------\n",
      "Turquoise\n",
      " -------------------------\n",
      "Cerulean\n",
      " -------------------------\n"
     ]
    }
   ],
   "source": [
    "high_temp_config = types.GenerateContentConfig(temperature=2.0)\n",
    "\n",
    "\n",
    "for _ in range(5):\n",
    "  response = client.models.generate_content(\n",
    "      model='gemini-2.0-flash',\n",
    "      config=high_temp_config,\n",
    "      contents='Pick a random colour... (respond in a single word)')\n",
    "\n",
    "  if response.text:\n",
    "    print(response.text, '-' * 25)"
   ]
  },
  {
   "cell_type": "markdown",
   "id": "9c6447f2",
   "metadata": {
    "id": "z3J4pCTuof7e",
    "papermill": {
     "duration": 0.013942,
     "end_time": "2025-04-18T04:47:49.428253",
     "exception": false,
     "start_time": "2025-04-18T04:47:49.414311",
     "status": "completed"
    },
    "tags": []
   },
   "source": [
    "Now try the same prompt with temperature set to zero. Note that the output is not completely deterministic, as other parameters affect token selection, but the results will tend to be more stable."
   ]
  },
  {
   "cell_type": "code",
   "execution_count": 16,
   "id": "90ed0b97",
   "metadata": {
    "execution": {
     "iopub.execute_input": "2025-04-18T04:47:49.455028Z",
     "iopub.status.busy": "2025-04-18T04:47:49.454612Z",
     "iopub.status.idle": "2025-04-18T04:47:51.266904Z",
     "shell.execute_reply": "2025-04-18T04:47:51.265760Z"
    },
    "id": "clymkWv-PfUZ",
    "papermill": {
     "duration": 1.828296,
     "end_time": "2025-04-18T04:47:51.269045",
     "exception": false,
     "start_time": "2025-04-18T04:47:49.440749",
     "status": "completed"
    },
    "tags": []
   },
   "outputs": [
    {
     "name": "stdout",
     "output_type": "stream",
     "text": [
      "Azure\n",
      " -------------------------\n",
      "Azure\n",
      " -------------------------\n",
      "Azure\n",
      " -------------------------\n",
      "Azure\n",
      " -------------------------\n",
      "Azure\n",
      " -------------------------\n"
     ]
    }
   ],
   "source": [
    "low_temp_config = types.GenerateContentConfig(temperature=0.0)\n",
    "\n",
    "for _ in range(5):\n",
    "  response = client.models.generate_content(\n",
    "      model='gemini-2.0-flash',\n",
    "      config=low_temp_config,\n",
    "      contents='Pick a random colour... (respond in a single word)')\n",
    "\n",
    "  if response.text:\n",
    "    print(response.text, '-' * 25)"
   ]
  },
  {
   "cell_type": "markdown",
   "id": "a7ac554b",
   "metadata": {
    "id": "St5nt3vzitsZ",
    "papermill": {
     "duration": 0.013203,
     "end_time": "2025-04-18T04:47:51.295894",
     "exception": false,
     "start_time": "2025-04-18T04:47:51.282691",
     "status": "completed"
    },
    "tags": []
   },
   "source": [
    "### Top-P\n",
    "\n",
    "Like temperature, the top-P parameter is also used to control the diversity of the model's output.\n",
    "\n",
    "Top-P defines the probability threshold that, once cumulatively exceeded, tokens stop being selected as candidates. A top-P of 0 is typically equivalent to greedy decoding, and a top-P of 1 typically selects every token in the model's vocabulary.\n",
    "\n",
    "You may also see top-K referenced in LLM literature. Top-K is not configurable in the Gemini 2.0 series of models, but can be changed in older models. Top-K is a positive integer that defines the number of most probable tokens from which to select the output token. A top-K of 1 selects a single token, performing greedy decoding.\n",
    "\n",
    "\n",
    "Run this example a number of times, change the settings and observe the change in output."
   ]
  },
  {
   "cell_type": "code",
   "execution_count": 17,
   "id": "429114d6",
   "metadata": {
    "execution": {
     "iopub.execute_input": "2025-04-18T04:47:51.323443Z",
     "iopub.status.busy": "2025-04-18T04:47:51.322748Z",
     "iopub.status.idle": "2025-04-18T04:48:51.564928Z",
     "shell.execute_reply": "2025-04-18T04:48:51.563855Z"
    },
    "id": "lPlzpEavUV8F",
    "papermill": {
     "duration": 60.270499,
     "end_time": "2025-04-18T04:48:51.579506",
     "exception": false,
     "start_time": "2025-04-18T04:47:51.309007",
     "status": "completed"
    },
    "tags": []
   },
   "outputs": [
    {
     "name": "stdout",
     "output_type": "stream",
     "text": [
      "Jasper wasn't just any cat. He wasn't content with naps in sunbeams and batting at dust bunnies. Jasper yearned for adventure. He dreamed of sprawling forests, towering mountains, and the unknown wonders that lay beyond his backyard fence. He was, in his heart, a feline explorer.\n",
      "\n",
      "One crisp autumn morning, the wind whispered secrets of the outside world through the gap in the kitchen window. Jasper, perched on the windowsill, felt the call. He'd heard tales from the sparrows, snippets of rustling leaves, and the distant rumble of something big and exciting. Today, he would answer that call.\n",
      "\n",
      "Slipping through the gap, he landed silently on the soft earth. The world exploded with scents: damp leaves, woodsmoke, and something intriguingly feral. He followed his nose, a tiny black arrow pointing him towards the woods that bordered his backyard.\n",
      "\n",
      "The woods were a cathedral of towering trees, their leaves painted in hues of fiery red and burnt orange. Sunlight dappled through the canopy, creating a mosaic on the forest floor. Jasper, usually a creature of comfort, felt an exhilarating thrill. He was small, yes, but he was brave.\n",
      "\n",
      "He stalked through the undergrowth, a miniature tiger in a world of giants. He chased a squirrel up an oak tree, only to be taunted from above with a flick of its bushy tail. He sniffed at strange mushrooms, their earthy aroma both repulsive and fascinating.\n",
      "\n",
      "Suddenly, a rustling in the bushes sent a shiver down his spine. A creature emerged, larger than any he had ever seen. It was a badger, its striped face and powerful claws a stark warning. Jasper froze, his adventurous spirit momentarily shrinking into a tiny ball of fear.\n",
      "\n",
      "The badger sniffed the air, its gaze fixed on Jasper. Time seemed to slow to a crawl. Then, surprisingly, the badger grunted, a sound that seemed more curious than threatening. It ambled past, more interested in digging for grubs than confronting a small, wide-eyed cat.\n",
      "\n",
      "Relief washed over Jasper. He had faced a real danger, and he had survived! He had proven himself, at least to himself, to be a true adventurer.\n",
      "\n",
      "As the sun began to set, casting long, eerie shadows through the trees, Jasper felt a familiar pang of hunger. He missed the soft cushions and the familiar smell of his human.\n",
      "\n",
      "He turned back, following his nose towards the faint scent of home. The adventure had been exhilarating, but the comfort of familiarity beckoned.\n",
      "\n",
      "Emerging from the woods, he saw the warm glow of his house. He slipped back through the window, landing softly on the kitchen floor. He was greeted with the familiar scent of tuna and the gentle scratch behind the ears from his human.\n",
      "\n",
      "As he curled up on his favourite cushion, purring contentedly, Jasper knew he would never forget his adventure. He had faced the unknown, confronted his fears, and returned home, a braver, wiser, and slightly more mud-splattered cat. He knew, with a certainty that warmed him from the inside out, that this was only the beginning of his exploring days. The world was vast and full of mysteries, and Jasper, the adventure cat, was ready to unravel them, one whisker twitch at a time.\n",
      "\n"
     ]
    }
   ],
   "source": [
    "model_config = types.GenerateContentConfig(\n",
    "    # These are the default values for gemini-2.0-flash.\n",
    "    temperature=1.0,\n",
    "    top_p=0.95,\n",
    ")\n",
    "\n",
    "story_prompt = \"You are a creative writer. Write a short story about a cat who goes on an adventure.\"\n",
    "response = client.models.generate_content(\n",
    "    model='gemini-2.0-flash',\n",
    "    config=model_config,\n",
    "    contents=story_prompt)\n",
    "\n",
    "print(response.text)"
   ]
  },
  {
   "cell_type": "markdown",
   "id": "295a5027",
   "metadata": {
    "id": "rMrYs1koY6DX",
    "papermill": {
     "duration": 0.01286,
     "end_time": "2025-04-18T04:48:51.605077",
     "exception": false,
     "start_time": "2025-04-18T04:48:51.592217",
     "status": "completed"
    },
    "tags": []
   },
   "source": [
    "## Prompting\n",
    "\n",
    "This section contains some prompts from the chapter for you to try out directly in the API. Try changing the text here to see how each prompt performs with different instructions, more examples, or any other changes you can think of."
   ]
  },
  {
   "cell_type": "markdown",
   "id": "afe137b9",
   "metadata": {
    "id": "hhj_tQidZJP7",
    "papermill": {
     "duration": 0.012147,
     "end_time": "2025-04-18T04:48:51.629832",
     "exception": false,
     "start_time": "2025-04-18T04:48:51.617685",
     "status": "completed"
    },
    "tags": []
   },
   "source": [
    "### Zero-shot\n",
    "\n",
    "Zero-shot prompts are prompts that describe the request for the model directly.\n",
    "\n",
    "<table align=left>\n",
    "  <td>\n",
    "    <a target=\"_blank\" href=\"https://aistudio.google.com/prompts/1gzKKgDHwkAvexG5Up0LMtl1-6jKMKe4g\"><img src=\"https://ai.google.dev/site-assets/images/marketing/home/icon-ais.png\" style=\"height: 24px\" height=24/> Open in AI Studio</a>\n",
    "  </td>\n",
    "</table>"
   ]
  },
  {
   "cell_type": "code",
   "execution_count": 18,
   "id": "4f0abd74",
   "metadata": {
    "execution": {
     "iopub.execute_input": "2025-04-18T04:48:51.656358Z",
     "iopub.status.busy": "2025-04-18T04:48:51.655644Z",
     "iopub.status.idle": "2025-04-18T04:48:51.971302Z",
     "shell.execute_reply": "2025-04-18T04:48:51.970106Z"
    },
    "id": "1_t-cwnDZzbH",
    "papermill": {
     "duration": 0.331702,
     "end_time": "2025-04-18T04:48:51.973459",
     "exception": false,
     "start_time": "2025-04-18T04:48:51.641757",
     "status": "completed"
    },
    "tags": []
   },
   "outputs": [
    {
     "name": "stdout",
     "output_type": "stream",
     "text": [
      "POSITIVE\n",
      "\n"
     ]
    }
   ],
   "source": [
    "model_config = types.GenerateContentConfig(\n",
    "    temperature=0.1,\n",
    "    top_p=1,\n",
    "    max_output_tokens=5,\n",
    ")\n",
    "\n",
    "zero_shot_prompt = \"\"\"Classify movie reviews as POSITIVE, NEUTRAL or NEGATIVE.\n",
    "Review: \"Her\" is a disturbing study revealing the direction\n",
    "humanity is headed if AI is allowed to keep evolving,\n",
    "unchecked. I wish there were more movies like this masterpiece.\n",
    "Sentiment: \"\"\"\n",
    "\n",
    "response = client.models.generate_content(\n",
    "    model='gemini-2.0-flash',\n",
    "    config=model_config,\n",
    "    contents=zero_shot_prompt)\n",
    "\n",
    "print(response.text)"
   ]
  },
  {
   "cell_type": "markdown",
   "id": "25c965e2",
   "metadata": {
    "id": "3b5568bdeb11",
    "papermill": {
     "duration": 0.013372,
     "end_time": "2025-04-18T04:48:51.999770",
     "exception": false,
     "start_time": "2025-04-18T04:48:51.986398",
     "status": "completed"
    },
    "tags": []
   },
   "source": [
    "#### Enum mode\n",
    "\n",
    "The models are trained to generate text, and while the Gemini 2.0 models are great at following instructions, other models can sometimes produce more text than you may wish for. In the preceding example, the model will output the label, but sometimes it can include a preceding \"Sentiment\" label, and without an output token limit, it may also add explanatory text afterwards. See [this prompt in AI Studio](https://aistudio.google.com/prompts/1gzKKgDHwkAvexG5Up0LMtl1-6jKMKe4g) for an example.\n",
    "\n",
    "The Gemini API has an [Enum mode](https://github.com/google-gemini/cookbook/blob/main/quickstarts/Enum.ipynb) feature that allows you to constrain the output to a fixed set of values."
   ]
  },
  {
   "cell_type": "code",
   "execution_count": 19,
   "id": "c8b89f34",
   "metadata": {
    "execution": {
     "iopub.execute_input": "2025-04-18T04:48:52.028980Z",
     "iopub.status.busy": "2025-04-18T04:48:52.028037Z",
     "iopub.status.idle": "2025-04-18T04:48:52.454352Z",
     "shell.execute_reply": "2025-04-18T04:48:52.453322Z"
    },
    "id": "ad118a56c598",
    "papermill": {
     "duration": 0.443171,
     "end_time": "2025-04-18T04:48:52.456651",
     "exception": false,
     "start_time": "2025-04-18T04:48:52.013480",
     "status": "completed"
    },
    "tags": []
   },
   "outputs": [
    {
     "name": "stdout",
     "output_type": "stream",
     "text": [
      "positive\n"
     ]
    }
   ],
   "source": [
    "import enum\n",
    "\n",
    "class Sentiment(enum.Enum):\n",
    "    POSITIVE = \"positive\"\n",
    "    NEUTRAL = \"neutral\"\n",
    "    NEGATIVE = \"negative\"\n",
    "\n",
    "\n",
    "response = client.models.generate_content(\n",
    "    model='gemini-2.0-flash',\n",
    "    config=types.GenerateContentConfig(\n",
    "        response_mime_type=\"text/x.enum\",\n",
    "        response_schema=Sentiment\n",
    "    ),\n",
    "    contents=zero_shot_prompt)\n",
    "\n",
    "print(response.text)"
   ]
  },
  {
   "cell_type": "markdown",
   "id": "cf0010aa",
   "metadata": {
    "papermill": {
     "duration": 0.012521,
     "end_time": "2025-04-18T04:48:52.482832",
     "exception": false,
     "start_time": "2025-04-18T04:48:52.470311",
     "status": "completed"
    },
    "tags": []
   },
   "source": [
    "When using constrained output like an enum, the Python SDK will attempt to convert the model's text response into a Python object automatically. It's stored in the `response.parsed` field."
   ]
  },
  {
   "cell_type": "code",
   "execution_count": 20,
   "id": "bb361233",
   "metadata": {
    "execution": {
     "iopub.execute_input": "2025-04-18T04:48:52.509124Z",
     "iopub.status.busy": "2025-04-18T04:48:52.508736Z",
     "iopub.status.idle": "2025-04-18T04:48:52.514007Z",
     "shell.execute_reply": "2025-04-18T04:48:52.512959Z"
    },
    "papermill": {
     "duration": 0.020364,
     "end_time": "2025-04-18T04:48:52.515803",
     "exception": false,
     "start_time": "2025-04-18T04:48:52.495439",
     "status": "completed"
    },
    "tags": []
   },
   "outputs": [
    {
     "name": "stdout",
     "output_type": "stream",
     "text": [
      "Sentiment.POSITIVE\n",
      "<enum 'Sentiment'>\n"
     ]
    }
   ],
   "source": [
    "enum_response = response.parsed\n",
    "print(enum_response)\n",
    "print(type(enum_response))"
   ]
  },
  {
   "cell_type": "markdown",
   "id": "4ebcd2c2",
   "metadata": {
    "id": "0udiSwNbv45W",
    "papermill": {
     "duration": 0.012807,
     "end_time": "2025-04-18T04:48:52.541383",
     "exception": false,
     "start_time": "2025-04-18T04:48:52.528576",
     "status": "completed"
    },
    "tags": []
   },
   "source": [
    "### One-shot and few-shot\n",
    "\n",
    "Providing an example of the expected response is known as a \"one-shot\" prompt. When you provide multiple examples, it is a \"few-shot\" prompt.\n",
    "\n",
    "<table align=left>\n",
    "  <td>\n",
    "    <a target=\"_blank\" href=\"https://aistudio.google.com/prompts/1jjWkjUSoMXmLvMJ7IzADr_GxHPJVV2bg\"><img src=\"https://ai.google.dev/site-assets/images/marketing/home/icon-ais.png\" style=\"height: 24px\" height=24/> Open in AI Studio</a>\n",
    "  </td>\n",
    "</table>\n"
   ]
  },
  {
   "cell_type": "code",
   "execution_count": 21,
   "id": "b8291ab4",
   "metadata": {
    "execution": {
     "iopub.execute_input": "2025-04-18T04:48:52.569386Z",
     "iopub.status.busy": "2025-04-18T04:48:52.569011Z",
     "iopub.status.idle": "2025-04-18T04:48:52.990050Z",
     "shell.execute_reply": "2025-04-18T04:48:52.988663Z"
    },
    "id": "hd4mVUukwOKZ",
    "papermill": {
     "duration": 0.437655,
     "end_time": "2025-04-18T04:48:52.992132",
     "exception": false,
     "start_time": "2025-04-18T04:48:52.554477",
     "status": "completed"
    },
    "tags": []
   },
   "outputs": [
    {
     "name": "stdout",
     "output_type": "stream",
     "text": [
      "```json\n",
      "{\n",
      "\"size\": \"large\",\n",
      "\"type\": \"normal\",\n",
      "\"ingredients\": [\"cheese\", \"pineapple\"]\n",
      "}\n",
      "```\n",
      "\n"
     ]
    }
   ],
   "source": [
    "few_shot_prompt = \"\"\"Parse a customer's pizza order into valid JSON:\n",
    "\n",
    "EXAMPLE:\n",
    "I want a small pizza with cheese, tomato sauce, and pepperoni.\n",
    "JSON Response:\n",
    "```\n",
    "{\n",
    "\"size\": \"small\",\n",
    "\"type\": \"normal\",\n",
    "\"ingredients\": [\"cheese\", \"tomato sauce\", \"pepperoni\"]\n",
    "}\n",
    "```\n",
    "\n",
    "EXAMPLE:\n",
    "Can I get a large pizza with tomato sauce, basil and mozzarella\n",
    "JSON Response:\n",
    "```\n",
    "{\n",
    "\"size\": \"large\",\n",
    "\"type\": \"normal\",\n",
    "\"ingredients\": [\"tomato sauce\", \"basil\", \"mozzarella\"]\n",
    "}\n",
    "```\n",
    "\n",
    "ORDER:\n",
    "\"\"\"\n",
    "\n",
    "customer_order = \"Give me a large with cheese & pineapple\"\n",
    "\n",
    "response = client.models.generate_content(\n",
    "    model='gemini-2.0-flash',\n",
    "    config=types.GenerateContentConfig(\n",
    "        temperature=0.1,\n",
    "        top_p=1,\n",
    "        max_output_tokens=250,\n",
    "    ),\n",
    "    contents=[few_shot_prompt, customer_order])\n",
    "\n",
    "print(response.text)"
   ]
  },
  {
   "cell_type": "markdown",
   "id": "20189491",
   "metadata": {
    "id": "021293096f08",
    "papermill": {
     "duration": 0.013177,
     "end_time": "2025-04-18T04:48:53.018954",
     "exception": false,
     "start_time": "2025-04-18T04:48:53.005777",
     "status": "completed"
    },
    "tags": []
   },
   "source": [
    "#### JSON mode\n",
    "\n",
    "To provide control over the schema, and to ensure that you only receive JSON (with no other text or markdown), you can use the Gemini API's [JSON mode](https://github.com/google-gemini/cookbook/blob/main/quickstarts/JSON_mode.ipynb). This forces the model to constrain decoding, such that token selection is guided by the supplied schema."
   ]
  },
  {
   "cell_type": "code",
   "execution_count": 22,
   "id": "2f3e0125",
   "metadata": {
    "execution": {
     "iopub.execute_input": "2025-04-18T04:48:53.047327Z",
     "iopub.status.busy": "2025-04-18T04:48:53.046623Z",
     "iopub.status.idle": "2025-04-18T04:48:53.610086Z",
     "shell.execute_reply": "2025-04-18T04:48:53.608986Z"
    },
    "id": "50fbf0260912",
    "papermill": {
     "duration": 0.579962,
     "end_time": "2025-04-18T04:48:53.612107",
     "exception": false,
     "start_time": "2025-04-18T04:48:53.032145",
     "status": "completed"
    },
    "tags": []
   },
   "outputs": [
    {
     "name": "stdout",
     "output_type": "stream",
     "text": [
      "{\n",
      "  \"size\": \"large\",\n",
      "  \"ingredients\": [\"apple\", \"chocolate\"],\n",
      "  \"type\": \"dessert\"\n",
      "}\n"
     ]
    }
   ],
   "source": [
    "import typing_extensions as typing\n",
    "\n",
    "class PizzaOrder(typing.TypedDict):\n",
    "    size: str\n",
    "    ingredients: list[str]\n",
    "    type: str\n",
    "\n",
    "\n",
    "response = client.models.generate_content(\n",
    "    model='gemini-2.0-flash',\n",
    "    config=types.GenerateContentConfig(\n",
    "        temperature=0.1,\n",
    "        response_mime_type=\"application/json\",\n",
    "        response_schema=PizzaOrder,\n",
    "    ),\n",
    "    contents=\"Can I have a large dessert pizza with apple and chocolate\")\n",
    "\n",
    "print(response.text)"
   ]
  },
  {
   "cell_type": "markdown",
   "id": "623cc377",
   "metadata": {
    "id": "4a93e338e57c",
    "papermill": {
     "duration": 0.01273,
     "end_time": "2025-04-18T04:48:53.638019",
     "exception": false,
     "start_time": "2025-04-18T04:48:53.625289",
     "status": "completed"
    },
    "tags": []
   },
   "source": [
    "### Chain of Thought (CoT)\n",
    "\n",
    "Direct prompting on LLMs can return answers quickly and (in terms of output token usage) efficiently, but they can be prone to hallucination. The answer may \"look\" correct (in terms of language and syntax) but is incorrect in terms of factuality and reasoning.\n",
    "\n",
    "Chain-of-Thought prompting is a technique where you instruct the model to output intermediate reasoning steps, and it typically gets better results, especially when combined with few-shot examples. It is worth noting that this technique doesn't completely eliminate hallucinations, and that it tends to cost more to run, due to the increased token count.\n",
    "\n",
    "Models like the Gemini family are trained to be \"chatty\" or \"thoughtful\" and will provide reasoning steps without prompting, so for this simple example you can ask the model to be more direct in the prompt to force a non-reasoning response. Try re-running this step if the model gets lucky and gets the answer correct on the first try."
   ]
  },
  {
   "cell_type": "code",
   "execution_count": 23,
   "id": "8f461d27",
   "metadata": {
    "execution": {
     "iopub.execute_input": "2025-04-18T04:48:53.666069Z",
     "iopub.status.busy": "2025-04-18T04:48:53.665410Z",
     "iopub.status.idle": "2025-04-18T04:48:54.003378Z",
     "shell.execute_reply": "2025-04-18T04:48:54.002215Z"
    },
    "id": "5715555db1c1",
    "papermill": {
     "duration": 0.354422,
     "end_time": "2025-04-18T04:48:54.005479",
     "exception": false,
     "start_time": "2025-04-18T04:48:53.651057",
     "status": "completed"
    },
    "tags": []
   },
   "outputs": [
    {
     "name": "stdout",
     "output_type": "stream",
     "text": [
      "52\n",
      "\n"
     ]
    }
   ],
   "source": [
    "prompt = \"\"\"When I was 4 years old, my partner was 3 times my age. Now, I\n",
    "am 20 years old. How old is my partner? Return the answer directly.\"\"\"\n",
    "\n",
    "response = client.models.generate_content(\n",
    "    model='gemini-2.0-flash',\n",
    "    contents=prompt)\n",
    "\n",
    "print(response.text)"
   ]
  },
  {
   "cell_type": "markdown",
   "id": "70a17763",
   "metadata": {
    "id": "e12b19677bfd",
    "papermill": {
     "duration": 0.013578,
     "end_time": "2025-04-18T04:48:54.033121",
     "exception": false,
     "start_time": "2025-04-18T04:48:54.019543",
     "status": "completed"
    },
    "tags": []
   },
   "source": [
    "Now try the same approach, but indicate to the model that it should \"think step by step\"."
   ]
  },
  {
   "cell_type": "code",
   "execution_count": 24,
   "id": "adf4992d",
   "metadata": {
    "execution": {
     "iopub.execute_input": "2025-04-18T04:48:54.060981Z",
     "iopub.status.busy": "2025-04-18T04:48:54.060625Z",
     "iopub.status.idle": "2025-04-18T04:48:54.956867Z",
     "shell.execute_reply": "2025-04-18T04:48:54.955725Z"
    },
    "id": "ffd7536a481f",
    "papermill": {
     "duration": 0.912601,
     "end_time": "2025-04-18T04:48:54.958920",
     "exception": false,
     "start_time": "2025-04-18T04:48:54.046319",
     "status": "completed"
    },
    "tags": []
   },
   "outputs": [
    {
     "data": {
      "text/markdown": [
       "Here's how to solve the problem:\n",
       "\n",
       "1. **Find the age difference:** When you were 4, your partner was 3 times your age, so they were 4 * 3 = 12 years old.\n",
       "2. **Calculate the age difference:** The age difference between you and your partner is 12 - 4 = 8 years.\n",
       "3. **Determine the partner's current age:** Since the age difference remains the same, your partner is currently 20 + 8 = 28 years old.\n",
       "\n",
       "**Therefore, your partner is 28 years old.**\n"
      ],
      "text/plain": [
       "<IPython.core.display.Markdown object>"
      ]
     },
     "execution_count": 24,
     "metadata": {},
     "output_type": "execute_result"
    }
   ],
   "source": [
    "prompt = \"\"\"When I was 4 years old, my partner was 3 times my age. Now,\n",
    "I am 20 years old. How old is my partner? Let's think step by step.\"\"\"\n",
    "\n",
    "response = client.models.generate_content(\n",
    "    model='gemini-2.0-flash',\n",
    "    contents=prompt)\n",
    "\n",
    "Markdown(response.text)"
   ]
  },
  {
   "cell_type": "markdown",
   "id": "75b27874",
   "metadata": {
    "id": "oiLgBQJj0V53",
    "papermill": {
     "duration": 0.013821,
     "end_time": "2025-04-18T04:48:54.987673",
     "exception": false,
     "start_time": "2025-04-18T04:48:54.973852",
     "status": "completed"
    },
    "tags": []
   },
   "source": [
    "### ReAct: Reason and act\n",
    "\n",
    "In this example you will run a ReAct prompt directly in the Gemini API and perform the searching steps yourself. As this prompt follows a well-defined structure, there are frameworks available that wrap the prompt into easier-to-use APIs that make tool calls automatically, such as the LangChain example from the \"Prompting\" whitepaper.\n",
    "\n",
    "To try this out with the Wikipedia search engine, check out the [Searching Wikipedia with ReAct](https://github.com/google-gemini/cookbook/blob/main/examples/Search_Wikipedia_using_ReAct.ipynb) cookbook example.\n",
    "\n",
    "\n",
    "> Note: The prompt and in-context examples used here are from [https://github.com/ysymyth/ReAct](https://github.com/ysymyth/ReAct) which is published under an [MIT license](https://opensource.org/licenses/MIT), Copyright (c) 2023 Shunyu Yao.\n",
    "\n",
    "<table align=left>\n",
    "  <td>\n",
    "    <a target=\"_blank\" href=\"https://aistudio.google.com/prompts/18oo63Lwosd-bQ6Ay51uGogB3Wk3H8XMO\"><img src=\"https://ai.google.dev/site-assets/images/marketing/home/icon-ais.png\" style=\"height: 24px\" height=24/> Open in AI Studio</a>\n",
    "  </td>\n",
    "</table>\n"
   ]
  },
  {
   "cell_type": "code",
   "execution_count": 25,
   "id": "50f5967d",
   "metadata": {
    "execution": {
     "iopub.execute_input": "2025-04-18T04:48:55.015558Z",
     "iopub.status.busy": "2025-04-18T04:48:55.014966Z",
     "iopub.status.idle": "2025-04-18T04:48:55.021256Z",
     "shell.execute_reply": "2025-04-18T04:48:55.020472Z"
    },
    "id": "cBgyNJ5z0VSs",
    "papermill": {
     "duration": 0.02254,
     "end_time": "2025-04-18T04:48:55.022939",
     "exception": false,
     "start_time": "2025-04-18T04:48:55.000399",
     "status": "completed"
    },
    "tags": []
   },
   "outputs": [],
   "source": [
    "model_instructions = \"\"\"\n",
    "Solve a question answering task with interleaving Thought, Action, Observation steps. Thought can reason about the current situation,\n",
    "Observation is understanding relevant information from an Action's output and Action can be one of three types:\n",
    " (1) <search>entity</search>, which searches the exact entity on Wikipedia and returns the first paragraph if it exists. If not, it\n",
    "     will return some similar entities to search and you can try to search the information from those topics.\n",
    " (2) <lookup>keyword</lookup>, which returns the next sentence containing keyword in the current context. This only does exact matches,\n",
    "     so keep your searches short.\n",
    " (3) <finish>answer</finish>, which returns the answer and finishes the task.\n",
    "\"\"\"\n",
    "\n",
    "example1 = \"\"\"Question\n",
    "Musician and satirist Allie Goertz wrote a song about the \"The Simpsons\" character Milhouse, who Matt Groening named after who?\n",
    "\n",
    "Thought 1\n",
    "The question simplifies to \"The Simpsons\" character Milhouse is named after who. I only need to search Milhouse and find who it is named after.\n",
    "\n",
    "Action 1\n",
    "<search>Milhouse</search>\n",
    "\n",
    "Observation 1\n",
    "Milhouse Mussolini Van Houten is a recurring character in the Fox animated television series The Simpsons voiced by Pamela Hayden and created by Matt Groening.\n",
    "\n",
    "Thought 2\n",
    "The paragraph does not tell who Milhouse is named after, maybe I can look up \"named after\".\n",
    "\n",
    "Action 2\n",
    "<lookup>named after</lookup>\n",
    "\n",
    "Observation 2\n",
    "Milhouse was named after U.S. president Richard Nixon, whose middle name was Milhous.\n",
    "\n",
    "Thought 3\n",
    "Milhouse was named after U.S. president Richard Nixon, so the answer is Richard Nixon.\n",
    "\n",
    "Action 3\n",
    "<finish>Richard Nixon</finish>\n",
    "\"\"\"\n",
    "\n",
    "example2 = \"\"\"Question\n",
    "What is the elevation range for the area that the eastern sector of the Colorado orogeny extends into?\n",
    "\n",
    "Thought 1\n",
    "I need to search Colorado orogeny, find the area that the eastern sector of the Colorado orogeny extends into, then find the elevation range of the area.\n",
    "\n",
    "Action 1\n",
    "<search>Colorado orogeny</search>\n",
    "\n",
    "Observation 1\n",
    "The Colorado orogeny was an episode of mountain building (an orogeny) in Colorado and surrounding areas.\n",
    "\n",
    "Thought 2\n",
    "It does not mention the eastern sector. So I need to look up eastern sector.\n",
    "\n",
    "Action 2\n",
    "<lookup>eastern sector</lookup>\n",
    "\n",
    "Observation 2\n",
    "The eastern sector extends into the High Plains and is called the Central Plains orogeny.\n",
    "\n",
    "Thought 3\n",
    "The eastern sector of Colorado orogeny extends into the High Plains. So I need to search High Plains and find its elevation range.\n",
    "\n",
    "Action 3\n",
    "<search>High Plains</search>\n",
    "\n",
    "Observation 3\n",
    "High Plains refers to one of two distinct land regions\n",
    "\n",
    "Thought 4\n",
    "I need to instead search High Plains (United States).\n",
    "\n",
    "Action 4\n",
    "<search>High Plains (United States)</search>\n",
    "\n",
    "Observation 4\n",
    "The High Plains are a subregion of the Great Plains. From east to west, the High Plains rise in elevation from around 1,800 to 7,000 ft (550 to 2,130m).\n",
    "\n",
    "Thought 5\n",
    "High Plains rise in elevation from around 1,800 to 7,000 ft, so the answer is 1,800 to 7,000 ft.\n",
    "\n",
    "Action 5\n",
    "<finish>1,800 to 7,000 ft</finish>\n",
    "\"\"\"\n",
    "\n",
    "# Come up with more examples yourself, or take a look through https://github.com/ysymyth/ReAct/"
   ]
  },
  {
   "cell_type": "markdown",
   "id": "243ba3b4",
   "metadata": {
    "id": "C3wbfstjTgey",
    "papermill": {
     "duration": 0.01343,
     "end_time": "2025-04-18T04:48:55.049593",
     "exception": false,
     "start_time": "2025-04-18T04:48:55.036163",
     "status": "completed"
    },
    "tags": []
   },
   "source": [
    "To capture a single step at a time, while ignoring any hallucinated Observation steps, you will use `stop_sequences` to end the generation process. The steps are `Thought`, `Action`, `Observation`, in that order."
   ]
  },
  {
   "cell_type": "code",
   "execution_count": 26,
   "id": "de27dccf",
   "metadata": {
    "execution": {
     "iopub.execute_input": "2025-04-18T04:48:55.078270Z",
     "iopub.status.busy": "2025-04-18T04:48:55.077919Z",
     "iopub.status.idle": "2025-04-18T04:48:55.577766Z",
     "shell.execute_reply": "2025-04-18T04:48:55.576986Z"
    },
    "id": "8mxrXRkRTdXm",
    "papermill": {
     "duration": 0.516925,
     "end_time": "2025-04-18T04:48:55.579930",
     "exception": false,
     "start_time": "2025-04-18T04:48:55.063005",
     "status": "completed"
    },
    "tags": []
   },
   "outputs": [
    {
     "name": "stdout",
     "output_type": "stream",
     "text": [
      "Thought 1\n",
      "I need to find the transformers NLP paper and then identify the youngest author listed on it.\n",
      "\n",
      "Action 1\n",
      "<search>transformers NLP paper</search>\n",
      "\n"
     ]
    }
   ],
   "source": [
    "question = \"\"\"Question\n",
    "Who was the youngest author listed on the transformers NLP paper?\n",
    "\"\"\"\n",
    "\n",
    "# You will perform the Action; so generate up to, but not including, the Observation.\n",
    "react_config = types.GenerateContentConfig(\n",
    "    stop_sequences=[\"\\nObservation\"],\n",
    "    system_instruction=model_instructions + example1 + example2,\n",
    ")\n",
    "\n",
    "# Create a chat that has the model instructions and examples pre-seeded.\n",
    "react_chat = client.chats.create(\n",
    "    model='gemini-2.0-flash',\n",
    "    config=react_config,\n",
    ")\n",
    "\n",
    "resp = react_chat.send_message(question)\n",
    "print(resp.text)"
   ]
  },
  {
   "cell_type": "markdown",
   "id": "3c95ab8d",
   "metadata": {
    "id": "aW2PIdLbVv3l",
    "papermill": {
     "duration": 0.012748,
     "end_time": "2025-04-18T04:48:55.606044",
     "exception": false,
     "start_time": "2025-04-18T04:48:55.593296",
     "status": "completed"
    },
    "tags": []
   },
   "source": [
    "Now you can perform this research yourself and supply it back to the model."
   ]
  },
  {
   "cell_type": "code",
   "execution_count": 27,
   "id": "5dfc0743",
   "metadata": {
    "execution": {
     "iopub.execute_input": "2025-04-18T04:48:55.634987Z",
     "iopub.status.busy": "2025-04-18T04:48:55.634573Z",
     "iopub.status.idle": "2025-04-18T04:48:56.399556Z",
     "shell.execute_reply": "2025-04-18T04:48:56.398655Z"
    },
    "id": "mLMc0DZaV9g2",
    "papermill": {
     "duration": 0.78212,
     "end_time": "2025-04-18T04:48:56.401632",
     "exception": false,
     "start_time": "2025-04-18T04:48:55.619512",
     "status": "completed"
    },
    "tags": []
   },
   "outputs": [
    {
     "name": "stdout",
     "output_type": "stream",
     "text": [
      "Thought 2\n",
      "Now I need to find the youngest author out of Ashish Vaswani, Noam Shazeer, Niki Parmar, Jakob Uszkoreit, Llion Jones, Aidan N. Gomez, Lukasz Kaiser, Illia Polosukhin. This requires searching for each author and determining their birth date and age.\n",
      "\n",
      "Action 2\n",
      "<search>Ashish Vaswani</search>\n",
      "\n"
     ]
    }
   ],
   "source": [
    "observation = \"\"\"Observation 1\n",
    "[1706.03762] Attention Is All You Need\n",
    "Ashish Vaswani, Noam Shazeer, Niki Parmar, Jakob Uszkoreit, Llion Jones, Aidan N. Gomez, Lukasz Kaiser, Illia Polosukhin\n",
    "We propose a new simple network architecture, the Transformer, based solely on attention mechanisms, dispensing with recurrence and convolutions entirely.\n",
    "\"\"\"\n",
    "resp = react_chat.send_message(observation)\n",
    "print(resp.text)"
   ]
  },
  {
   "cell_type": "markdown",
   "id": "9ce9f82a",
   "metadata": {
    "id": "bo0tzf4nX6dA",
    "papermill": {
     "duration": 0.013145,
     "end_time": "2025-04-18T04:48:56.427991",
     "exception": false,
     "start_time": "2025-04-18T04:48:56.414846",
     "status": "completed"
    },
    "tags": []
   },
   "source": [
    "This process repeats until the `<finish>` action is reached. You can continue running this yourself if you like, or try the [Wikipedia example](https://github.com/google-gemini/cookbook/blob/main/examples/Search_Wikipedia_using_ReAct.ipynb) to see a fully automated ReAct system at work."
   ]
  },
  {
   "cell_type": "markdown",
   "id": "6fcab843",
   "metadata": {
    "papermill": {
     "duration": 0.013603,
     "end_time": "2025-04-18T04:48:56.455189",
     "exception": false,
     "start_time": "2025-04-18T04:48:56.441586",
     "status": "completed"
    },
    "tags": []
   },
   "source": [
    "## Thinking mode\n",
    "\n",
    "The experiemental Gemini Flash 2.0 \"Thinking\" model has been trained to generate the \"thinking process\" the model goes through as part of its response. As a result, the Flash Thinking model is capable of stronger reasoning capabilities in its responses.\n",
    "\n",
    "Using a \"thinking mode\" model can provide you with high-quality responses without needing specialised prompting like the previous approaches. One reason this technique is effective is that you induce the model to generate relevant information (\"brainstorming\", or \"thoughts\") that is then used as part of the context in which the final response is generated.\n",
    "\n",
    "Note that when you use the API, you get the final response from the model, but the thoughts are not captured. To see the intermediate thoughts, try out [the thinking mode model in AI Studio](https://aistudio.google.com/prompts/new_chat?model=gemini-2.0-flash-thinking-exp-01-21).\n",
    "\n",
    "<table align=left>\n",
    "  <td>\n",
    "    <a target=\"_blank\" href=\"https://aistudio.google.com/prompts/1Z991SV7lZZZqioOiqIUPv9a9ix-ws4zk\"><img src=\"https://ai.google.dev/site-assets/images/marketing/home/icon-ais.png\" style=\"height: 24px\" height=24/> Open in AI Studio</a>\n",
    "  </td>\n",
    "</table>"
   ]
  },
  {
   "cell_type": "code",
   "execution_count": 28,
   "id": "2480830b",
   "metadata": {
    "execution": {
     "iopub.execute_input": "2025-04-18T04:48:56.484108Z",
     "iopub.status.busy": "2025-04-18T04:48:56.483705Z",
     "iopub.status.idle": "2025-04-18T04:49:03.814643Z",
     "shell.execute_reply": "2025-04-18T04:49:03.813653Z"
    },
    "papermill": {
     "duration": 7.347725,
     "end_time": "2025-04-18T04:49:03.816620",
     "exception": false,
     "start_time": "2025-04-18T04:48:56.468895",
     "status": "completed"
    },
    "tags": []
   },
   "outputs": [
    {
     "data": {
      "text/markdown": [
       "Based on the information available online, the youngest author listed on the \"Attention is All You Need\" paper (the seminal Transformers NLP paper) is likely **Aidan N. Gomez**.\n",
       "\n",
       "Here's why:\n",
       "\n",
       "* **Aidan N. Gomez** was a PhD student at the University of Oxford at the time of the paper's publication in 2017. PhD students are typically in the earlier stages of their careers and therefore generally younger than researchers in established positions at companies like Google Brain.\n",
       "* The other authors were affiliated with Google Brain at the time, which generally implies more established researchers who have completed their PhDs and have more years of experience.\n",
       "\n",
       "While we don't have exact birthdates for all authors to definitively say who was the *absolute* youngest, based on typical career paths and publicly available information, **Aidan N. Gomez** is the most likely to be the youngest author on the \"Attention is All You Need\" paper.\n",
       "\n",
       "It's important to note that \"youngest\" is relative and based on career stage at the time of publication.  Without access to personal birthdate information, we're making an educated inference based on typical academic career trajectories."
      ],
      "text/plain": [
       "<IPython.core.display.Markdown object>"
      ]
     },
     "execution_count": 28,
     "metadata": {},
     "output_type": "execute_result"
    }
   ],
   "source": [
    "import io\n",
    "from IPython.display import Markdown, clear_output\n",
    "\n",
    "\n",
    "response = client.models.generate_content_stream(\n",
    "    model='gemini-2.0-flash-thinking-exp',\n",
    "    contents='Who was the youngest author listed on the transformers NLP paper?',\n",
    ")\n",
    "\n",
    "buf = io.StringIO()\n",
    "for chunk in response:\n",
    "    buf.write(chunk.text)\n",
    "    # Display the response as it is streamed\n",
    "    print(chunk.text, end='')\n",
    "\n",
    "# And then render the finished response as formatted markdown.\n",
    "clear_output()\n",
    "Markdown(buf.getvalue())"
   ]
  },
  {
   "cell_type": "markdown",
   "id": "9670f2c5",
   "metadata": {
    "id": "jPiZ_eIIaVPt",
    "papermill": {
     "duration": 0.014634,
     "end_time": "2025-04-18T04:49:03.845033",
     "exception": false,
     "start_time": "2025-04-18T04:49:03.830399",
     "status": "completed"
    },
    "tags": []
   },
   "source": [
    "## Code prompting"
   ]
  },
  {
   "cell_type": "markdown",
   "id": "59b0a6fc",
   "metadata": {
    "id": "ZinKamwXeR6C",
    "papermill": {
     "duration": 0.013144,
     "end_time": "2025-04-18T04:49:03.871637",
     "exception": false,
     "start_time": "2025-04-18T04:49:03.858493",
     "status": "completed"
    },
    "tags": []
   },
   "source": [
    "### Generating code\n",
    "\n",
    "The Gemini family of models can be used to generate code, configuration and scripts. Generating code can be helpful when learning to code, learning a new language or for rapidly generating a first draft.\n",
    "\n",
    "It's important to be aware that since LLMs can make mistakes, and can repeat training data, it's essential to read and test your code first, and comply with any relevant licenses.\n",
    "\n",
    "<table align=left>\n",
    "  <td>\n",
    "    <a target=\"_blank\" href=\"https://aistudio.google.com/prompts/1YX71JGtzDjXQkgdes8bP6i3oH5lCRKxv\"><img src=\"https://ai.google.dev/site-assets/images/marketing/home/icon-ais.png\" style=\"height: 24px\" height=24/> Open in AI Studio</a>\n",
    "  </td>\n",
    "</table>"
   ]
  },
  {
   "cell_type": "code",
   "execution_count": 29,
   "id": "b44d62ed",
   "metadata": {
    "execution": {
     "iopub.execute_input": "2025-04-18T04:49:03.899683Z",
     "iopub.status.busy": "2025-04-18T04:49:03.899351Z",
     "iopub.status.idle": "2025-04-18T04:49:04.435883Z",
     "shell.execute_reply": "2025-04-18T04:49:04.434862Z"
    },
    "id": "fOQP9pqmeUO1",
    "papermill": {
     "duration": 0.552976,
     "end_time": "2025-04-18T04:49:04.437905",
     "exception": false,
     "start_time": "2025-04-18T04:49:03.884929",
     "status": "completed"
    },
    "tags": []
   },
   "outputs": [
    {
     "data": {
      "text/markdown": [
       "```python\n",
       "def factorial(n):\n",
       "  \"\"\"\n",
       "  Calculate the factorial of a non-negative integer.\n",
       "  \"\"\"\n",
       "  if n == 0:\n",
       "    return 1\n",
       "  else:\n",
       "    return n * factorial(n-1)\n",
       "```"
      ],
      "text/plain": [
       "<IPython.core.display.Markdown object>"
      ]
     },
     "execution_count": 29,
     "metadata": {},
     "output_type": "execute_result"
    }
   ],
   "source": [
    "# The Gemini models love to talk, so it helps to specify they stick to the code if that\n",
    "# is all that you want.\n",
    "code_prompt = \"\"\"\n",
    "Write a Python function to calculate the factorial of a number. No explanation, provide only the code.\n",
    "\"\"\"\n",
    "\n",
    "response = client.models.generate_content(\n",
    "    model='gemini-2.0-flash',\n",
    "    config=types.GenerateContentConfig(\n",
    "        temperature=1,\n",
    "        top_p=1,\n",
    "        max_output_tokens=1024,\n",
    "    ),\n",
    "    contents=code_prompt)\n",
    "\n",
    "Markdown(response.text)"
   ]
  },
  {
   "cell_type": "markdown",
   "id": "9d39d4da",
   "metadata": {
    "id": "wlBMWSFhgVRQ",
    "papermill": {
     "duration": 0.013774,
     "end_time": "2025-04-18T04:49:04.465715",
     "exception": false,
     "start_time": "2025-04-18T04:49:04.451941",
     "status": "completed"
    },
    "tags": []
   },
   "source": [
    "### Code execution\n",
    "\n",
    "The Gemini API can automatically run generated code too, and will return the output.\n",
    "\n",
    "<table align=left>\n",
    "  <td>\n",
    "    <a target=\"_blank\" href=\"https://aistudio.google.com/prompts/11veFr_VYEwBWcLkhNLr-maCG0G8sS_7Z\"><img src=\"https://ai.google.dev/site-assets/images/marketing/home/icon-ais.png\" style=\"height: 24px\" height=24/> Open in AI Studio</a>\n",
    "  </td>\n",
    "</table>"
   ]
  },
  {
   "cell_type": "code",
   "execution_count": 30,
   "id": "866768c7",
   "metadata": {
    "execution": {
     "iopub.execute_input": "2025-04-18T04:49:04.494237Z",
     "iopub.status.busy": "2025-04-18T04:49:04.493874Z",
     "iopub.status.idle": "2025-04-18T04:49:07.105718Z",
     "shell.execute_reply": "2025-04-18T04:49:07.104886Z"
    },
    "id": "jT3OfWYfhjRL",
    "papermill": {
     "duration": 2.629072,
     "end_time": "2025-04-18T04:49:07.108023",
     "exception": false,
     "start_time": "2025-04-18T04:49:04.478951",
     "status": "completed"
    },
    "tags": []
   },
   "outputs": [
    {
     "name": "stdout",
     "output_type": "stream",
     "text": [
      "{'text': \"Okay, I can do that. First, I'll generate the first 14 odd prime \"\n",
      "         'numbers. Remember that a prime number is a natural number greater '\n",
      "         'than 1 that is not a product of two smaller natural numbers. Odd '\n",
      "         \"prime numbers are prime numbers that are not equal to 2. Then I'll \"\n",
      "         'calculate their sum.\\n'\n",
      "         '\\n'}\n",
      "-----\n",
      "{'executable_code': {'code': 'primes = []\\n'\n",
      "                             'num = 3\\n'\n",
      "                             'while len(primes) < 14:\\n'\n",
      "                             '  is_prime = True\\n'\n",
      "                             '  for i in range(2, int(num**0.5) + 1):\\n'\n",
      "                             '    if num % i == 0:\\n'\n",
      "                             '      is_prime = False\\n'\n",
      "                             '      break\\n'\n",
      "                             '  if is_prime:\\n'\n",
      "                             '    primes.append(num)\\n'\n",
      "                             '  num += 2\\n'\n",
      "                             '\\n'\n",
      "                             \"print(f'{primes=}')\\n\"\n",
      "                             '\\n'\n",
      "                             'sum_of_primes = sum(primes)\\n'\n",
      "                             \"print(f'{sum_of_primes=}')\\n\",\n",
      "                     'language': 'PYTHON'}}\n",
      "-----\n",
      "{'code_execution_result': {'outcome': 'OUTCOME_OK',\n",
      "                           'output': 'primes=[3, 5, 7, 11, 13, 17, 19, 23, 29, '\n",
      "                                     '31, 37, 41, 43, 47]\\n'\n",
      "                                     'sum_of_primes=326\\n'}}\n",
      "-----\n",
      "{'text': 'The first 14 odd prime numbers are 3, 5, 7, 11, 13, 17, 19, 23, 29, '\n",
      "         '31, 37, 41, 43, and 47. Their sum is 326.\\n'}\n",
      "-----\n"
     ]
    }
   ],
   "source": [
    "from pprint import pprint\n",
    "\n",
    "config = types.GenerateContentConfig(\n",
    "    tools=[types.Tool(code_execution=types.ToolCodeExecution())],\n",
    ")\n",
    "\n",
    "code_exec_prompt = \"\"\"\n",
    "Generate the first 14 odd prime numbers, then calculate their sum.\n",
    "\"\"\"\n",
    "\n",
    "response = client.models.generate_content(\n",
    "    model='gemini-2.0-flash',\n",
    "    config=config,\n",
    "    contents=code_exec_prompt)\n",
    "\n",
    "for part in response.candidates[0].content.parts:\n",
    "  pprint(part.to_json_dict())\n",
    "  print(\"-----\")"
   ]
  },
  {
   "cell_type": "markdown",
   "id": "1d1dadf0",
   "metadata": {
    "id": "ZspT1GSkjG6d",
    "papermill": {
     "duration": 0.014002,
     "end_time": "2025-04-18T04:49:07.136416",
     "exception": false,
     "start_time": "2025-04-18T04:49:07.122414",
     "status": "completed"
    },
    "tags": []
   },
   "source": [
    "This response contains multiple parts, including an opening and closing text part that represent regular responses, an `executable_code` part that represents generated code and a `code_execution_result` part that represents the results from running the generated code.\n",
    "\n",
    "You can explore them individually."
   ]
  },
  {
   "cell_type": "code",
   "execution_count": 31,
   "id": "0687c45e",
   "metadata": {
    "execution": {
     "iopub.execute_input": "2025-04-18T04:49:07.165742Z",
     "iopub.status.busy": "2025-04-18T04:49:07.165358Z",
     "iopub.status.idle": "2025-04-18T04:49:07.177658Z",
     "shell.execute_reply": "2025-04-18T04:49:07.176690Z"
    },
    "papermill": {
     "duration": 0.029426,
     "end_time": "2025-04-18T04:49:07.179608",
     "exception": false,
     "start_time": "2025-04-18T04:49:07.150182",
     "status": "completed"
    },
    "tags": []
   },
   "outputs": [
    {
     "data": {
      "text/markdown": [
       "Okay, I can do that. First, I'll generate the first 14 odd prime numbers. Remember that a prime number is a natural number greater than 1 that is not a product of two smaller natural numbers. Odd prime numbers are prime numbers that are not equal to 2. Then I'll calculate their sum.\n",
       "\n"
      ],
      "text/plain": [
       "<IPython.core.display.Markdown object>"
      ]
     },
     "metadata": {},
     "output_type": "display_data"
    },
    {
     "data": {
      "text/markdown": [
       "```python\n",
       "primes = []\n",
       "num = 3\n",
       "while len(primes) < 14:\n",
       "  is_prime = True\n",
       "  for i in range(2, int(num**0.5) + 1):\n",
       "    if num % i == 0:\n",
       "      is_prime = False\n",
       "      break\n",
       "  if is_prime:\n",
       "    primes.append(num)\n",
       "  num += 2\n",
       "\n",
       "print(f'{primes=}')\n",
       "\n",
       "sum_of_primes = sum(primes)\n",
       "print(f'{sum_of_primes=}')\n",
       "\n",
       "```"
      ],
      "text/plain": [
       "<IPython.core.display.Markdown object>"
      ]
     },
     "metadata": {},
     "output_type": "display_data"
    },
    {
     "data": {
      "text/markdown": [
       "```\n",
       "primes=[3, 5, 7, 11, 13, 17, 19, 23, 29, 31, 37, 41, 43, 47]\n",
       "sum_of_primes=326\n",
       "\n",
       "```"
      ],
      "text/plain": [
       "<IPython.core.display.Markdown object>"
      ]
     },
     "metadata": {},
     "output_type": "display_data"
    },
    {
     "data": {
      "text/markdown": [
       "The first 14 odd prime numbers are 3, 5, 7, 11, 13, 17, 19, 23, 29, 31, 37, 41, 43, and 47. Their sum is 326.\n"
      ],
      "text/plain": [
       "<IPython.core.display.Markdown object>"
      ]
     },
     "metadata": {},
     "output_type": "display_data"
    }
   ],
   "source": [
    "for part in response.candidates[0].content.parts:\n",
    "    if part.text:\n",
    "        display(Markdown(part.text))\n",
    "    elif part.executable_code:\n",
    "        display(Markdown(f'```python\\n{part.executable_code.code}\\n```'))\n",
    "    elif part.code_execution_result:\n",
    "        if part.code_execution_result.outcome != 'OUTCOME_OK':\n",
    "            display(Markdown(f'## Status {part.code_execution_result.outcome}'))\n",
    "\n",
    "        display(Markdown(f'```\\n{part.code_execution_result.output}\\n```'))"
   ]
  },
  {
   "cell_type": "markdown",
   "id": "4972184f",
   "metadata": {
    "id": "1gUX8QzCj4d5",
    "papermill": {
     "duration": 0.014706,
     "end_time": "2025-04-18T04:49:07.209262",
     "exception": false,
     "start_time": "2025-04-18T04:49:07.194556",
     "status": "completed"
    },
    "tags": []
   },
   "source": [
    "### Explaining code\n",
    "\n",
    "The Gemini family of models can explain code to you too. In this example, you pass a [bash script](https://github.com/magicmonty/bash-git-prompt) and ask some questions.\n",
    "\n",
    "<table align=left>\n",
    "  <td>\n",
    "    <a target=\"_blank\" href=\"https://aistudio.google.com/prompts/1N7LGzWzCYieyOf_7bAG4plrmkpDNmUyb\"><img src=\"https://ai.google.dev/site-assets/images/marketing/home/icon-ais.png\" style=\"height: 24px\" height=24/> Open in AI Studio</a>\n",
    "  </td>\n",
    "</table>"
   ]
  },
  {
   "cell_type": "code",
   "execution_count": 32,
   "id": "54d6f9b8",
   "metadata": {
    "execution": {
     "iopub.execute_input": "2025-04-18T04:49:07.240045Z",
     "iopub.status.busy": "2025-04-18T04:49:07.239283Z",
     "iopub.status.idle": "2025-04-18T04:49:09.667377Z",
     "shell.execute_reply": "2025-04-18T04:49:09.666311Z"
    },
    "id": "7_jPMMoxkIEb",
    "papermill": {
     "duration": 2.44605,
     "end_time": "2025-04-18T04:49:09.669423",
     "exception": false,
     "start_time": "2025-04-18T04:49:07.223373",
     "status": "completed"
    },
    "tags": []
   },
   "outputs": [
    {
     "data": {
      "text/markdown": [
       "This file, named `git-prompt.sh`, is a shell script designed to enhance your command-line prompt with information about the current Git repository.\n",
       "\n",
       "**What it does:**\n",
       "\n",
       "*   **Git Status Display:**  It shows you the current branch, whether there are uncommitted changes, staged files, conflicts, how far ahead or behind you are from the remote branch, and more.\n",
       "*   **Customizable:** It's highly customizable through themes and configuration variables, allowing you to change the colors, symbols, and information displayed.\n",
       "*   **Asynchronous Updates:** It can fetch remote Git status updates in the background, so your prompt doesn't lag while waiting for Git.\n",
       "*   **Virtual Environment Awareness:**  It displays the active virtual environment (Python, Node.js, Conda).\n",
       "*   **Cross-Shell Compatibility:** Tries to be compatible with both `bash` and `zsh`.\n",
       "\n",
       "**Why you would use it:**\n",
       "\n",
       "*   **At-a-Glance Git Information:**  Quickly see the status of your Git repository without having to run `git status` every time.\n",
       "*   **Improved Workflow:**  Stay aware of the state of your code and avoid accidental commits or pushes with outdated information.\n",
       "*   **Personalized Prompt:** Create a prompt that fits your style and highlights the information that is most important to you.\n",
       "*   **Virtual Env Indication:**  Ensures you are always aware which virtual environment you are working inside.\n",
       "\n",
       "In essence, it's a visual aid to make working with Git in the command line more efficient and informative.\n"
      ],
      "text/plain": [
       "<IPython.core.display.Markdown object>"
      ]
     },
     "execution_count": 32,
     "metadata": {},
     "output_type": "execute_result"
    }
   ],
   "source": [
    "file_contents = !curl https://raw.githubusercontent.com/magicmonty/bash-git-prompt/refs/heads/master/gitprompt.sh\n",
    "\n",
    "explain_prompt = f\"\"\"\n",
    "Please explain what this file does at a very high level. What is it, and why would I use it?\n",
    "\n",
    "```\n",
    "{file_contents}\n",
    "```\n",
    "\"\"\"\n",
    "\n",
    "response = client.models.generate_content(\n",
    "    model='gemini-2.0-flash',\n",
    "    contents=explain_prompt)\n",
    "\n",
    "Markdown(response.text)"
   ]
  },
  {
   "cell_type": "markdown",
   "id": "7a66a9a0",
   "metadata": {
    "id": "2a8266d97ce5",
    "papermill": {
     "duration": 0.014654,
     "end_time": "2025-04-18T04:49:09.698744",
     "exception": false,
     "start_time": "2025-04-18T04:49:09.684090",
     "status": "completed"
    },
    "tags": []
   },
   "source": [
    "## Learn more\n",
    "\n",
    "To learn more about prompting in depth:\n",
    "\n",
    "* Check out the whitepaper issued with today's content,\n",
    "* Try out the apps listed at the top of this notebook ([TextFX](https://textfx.withgoogle.com/), [SQL Talk](https://sql-talk-r5gdynozbq-uc.a.run.app/) and [NotebookLM](https://notebooklm.google/)),\n",
    "* Read the [Introduction to Prompting](https://ai.google.dev/gemini-api/docs/prompting-intro) from the Gemini API docs,\n",
    "* Explore the Gemini API's [prompt gallery](https://ai.google.dev/gemini-api/prompts) and try them out in AI Studio,\n",
    "* Check out the Gemini API cookbook for [inspirational examples](https://github.com/google-gemini/cookbook/blob/main/examples/) and [educational quickstarts](https://github.com/google-gemini/cookbook/blob/main/quickstarts/).\n",
    "\n",
    "Be sure to check out the codelabs on day 3 too, where you will explore some more advanced prompting with code execution.\n",
    "\n",
    "And please share anything exciting you have tried in the Discord!\n",
    "\n",
    "*- [Mark McD](https://linktr.ee/markmcd)*"
   ]
  }
 ],
 "metadata": {
  "colab": {
   "name": "day-1-prompting.ipynb",
   "toc_visible": true
  },
  "kaggle": {
   "accelerator": "none",
   "dataSources": [],
   "dockerImageVersionId": 30786,
   "isGpuEnabled": false,
   "isInternetEnabled": true,
   "language": "python",
   "sourceType": "notebook"
  },
  "kernelspec": {
   "display_name": "Python 3",
   "language": "python",
   "name": "python3"
  },
  "language_info": {
   "codemirror_mode": {
    "name": "ipython",
    "version": 3
   },
   "file_extension": ".py",
   "mimetype": "text/x-python",
   "name": "python",
   "nbconvert_exporter": "python",
   "pygments_lexer": "ipython3",
   "version": "3.10.14"
  },
  "papermill": {
   "default_parameters": {},
   "duration": 112.809801,
   "end_time": "2025-04-18T04:49:10.233925",
   "environment_variables": {},
   "exception": null,
   "input_path": "__notebook__.ipynb",
   "output_path": "__notebook__.ipynb",
   "parameters": {},
   "start_time": "2025-04-18T04:47:17.424124",
   "version": "2.6.0"
  }
 },
 "nbformat": 4,
 "nbformat_minor": 5
}
